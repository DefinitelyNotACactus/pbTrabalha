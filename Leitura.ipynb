{
 "cells": [
  {
   "cell_type": "code",
   "id": "5c955c83",
   "metadata": {
    "ExecuteTime": {
     "end_time": "2024-04-10T22:46:48.080427Z",
     "start_time": "2024-04-10T22:46:47.334587Z"
    }
   },
   "source": [
    "from os import remove\n",
    "from py7zr import SevenZipFile\n",
    "import pandas as pd\n",
    "import wget\n",
    "import numpy as np"
   ],
   "outputs": [],
   "execution_count": 1
  },
  {
   "cell_type": "markdown",
   "id": "c60f2d5a",
   "metadata": {},
   "source": [
    "## Dicionário de Dados\n",
    "Admitidos/Desligados: Contratação (1), Demissão(2)\n",
    "\n",
    "Sexo: Masculino (1), Feminino (2)\n",
    "\n",
    "Classificação de Setores CNAE 2.0: https://docs.google.com/spreadsheets/d/1bMFKpREb4YlW2ZzW1WVLdMN59ol-iLw5/export?format=xlsx\n",
    "\n",
    "Códigos IBGE por Estado: https://www.oobj.com.br/bc/article/quais-os-c%C3%B3digos-de-cada-uf-no-brasil-465.html"
   ]
  },
  {
   "cell_type": "code",
   "execution_count": 2,
   "id": "d2b8aff2",
   "metadata": {},
   "outputs": [],
   "source": [
    "excel = pd.ExcelFile(\"data/dicionario_dados.xlsx\")\n",
    "get_dict =  lambda x: pd.read_excel(excel, sheet_name=x)\n",
    "\n",
    "data_dict = {\n",
    "    sheet: {row[1]: row[2] for row in \n",
    "     get_dict(sheet).itertuples()}\n",
    "    for sheet in excel.sheet_names[1:]\n",
    "}"
   ]
  },
  {
   "cell_type": "markdown",
   "id": "76d01a45",
   "metadata": {},
   "source": [
    "### Grandes grupos"
   ]
  },
  {
   "cell_type": "code",
   "execution_count": 3,
   "id": "4fb4d05f",
   "metadata": {},
   "outputs": [],
   "source": [
    "big_group = {\n",
    "\t'Administração Pública, Defesa e Seguridade Social': 'Serviços',\n",
    "\t'Agricultura, Pecuária, Produção Florestal, Pesca e AqÜIcultura': 'Agropecuária',\n",
    "\t'Alojamento e Alimentação': 'Serviços',\n",
    "\t'Artes, Cultura, Esporte e Recreação': 'Serviços',\n",
    "\t'Atividades Administrativas e Serviços Complementares': 'Serviços',\n",
    "\t'Atividades Financeiras, de Seguros e Serviços Relacionados': 'Serviços',\n",
    "\t'Atividades Imobiliárias': 'Serviços',\n",
    "\t'Atividades Profissionais, Científicas e Técnicas': 'Serviços',\n",
    "\t'Comércio, Reparação de Veículos Automotores e Motocicletas': 'Comércio',\n",
    "\t'Construção': 'Construção',\n",
    "\t'Educação': 'Serviços',\n",
    "\t'Eletricidade e Gás': 'Indústria',\n",
    "\t'Indústrias Extrativas': 'Indústria',\n",
    "\t'Indústrias de Transformação': 'Indústria',\n",
    "\t'Informação e Comunicação': 'Serviços',\n",
    "\t'Não identificado': 'Não Identificado',\n",
    "\t'Organismos Internacionais e Outras Instituições Extraterritoriais': 'Serviços',\n",
    "\t'Outras Atividades de Serviços': 'Serviços',\n",
    "\t'Saúde Humana e Serviços Sociais': 'Serviços',\n",
    "\t'Serviços Domésticos': 'Serviços',\n",
    "\t'Transporte, Armazenagem e Correio': 'Serviços',\n",
    "\t'Água, Esgoto, Atividades de Gestão de Resíduos e Descontaminação':\n",
    "\t'Indústria'\n",
    "}"
   ]
  },
  {
   "cell_type": "markdown",
   "id": "16e8a644",
   "metadata": {},
   "source": [
    "## Leitura e processamento"
   ]
  },
  {
   "cell_type": "code",
   "execution_count": 6,
   "id": "9e18a502",
   "metadata": {},
   "outputs": [],
   "source": [
    "url = lambda year, month: f\"ftp://ftp.mtps.gov.br/pdet/microdados/NOVO CAGED/{year}/{year}{month:02d}/CAGEDMOV{year}{month:02d}.7z\""
   ]
  },
  {
   "cell_type": "code",
   "execution_count": 13,
   "id": "2ee769f4",
   "metadata": {},
   "outputs": [
    {
     "name": "stdout",
     "output_type": "stream",
     "text": [
      "01/2023\n",
      "-1 / unknownMicrodados baixados com sucesso, passando para leitura\n",
      "Leitura concluida com sucesso\n",
      "02/2023\n",
      "-1 / unknownMicrodados baixados com sucesso, passando para leitura\n",
      "Leitura concluida com sucesso\n",
      "03/2023\n",
      "-1 / unknownMicrodados baixados com sucesso, passando para leitura\n",
      "Leitura concluida com sucesso\n",
      "04/2023\n",
      "-1 / unknownMicrodados baixados com sucesso, passando para leitura\n",
      "Leitura concluida com sucesso\n",
      "05/2023\n",
      "-1 / unknownMicrodados baixados com sucesso, passando para leitura\n",
      "Leitura concluida com sucesso\n",
      "06/2023\n",
      "-1 / unknownMicrodados baixados com sucesso, passando para leitura\n",
      "Leitura concluida com sucesso\n",
      "07/2023\n",
      "-1 / unknownMicrodados baixados com sucesso, passando para leitura\n",
      "Leitura concluida com sucesso\n",
      "08/2023\n",
      "-1 / unknownMicrodados baixados com sucesso, passando para leitura\n",
      "Leitura concluida com sucesso\n",
      "09/2023\n",
      "-1 / unknownMicrodados baixados com sucesso, passando para leitura\n",
      "Leitura concluida com sucesso\n",
      "10/2023\n",
      "-1 / unknownMicrodados baixados com sucesso, passando para leitura\n",
      "Leitura concluida com sucesso\n",
      "11/2023\n",
      "-1 / unknownMicrodados baixados com sucesso, passando para leitura\n",
      "Leitura concluida com sucesso\n",
      "12/2023\n",
      "-1 / unknownMicrodados baixados com sucesso, passando para leitura\n",
      "Leitura concluida com sucesso\n",
      "03/2024\n",
      "Os microdados do mês selecionado ainda não estão disponíveis\n"
     ]
    }
   ],
   "source": [
    "#Baixando e extraindo microdados\n",
    "dfs = []\n",
    "start_year = 2023\n",
    "start_month = 1\n",
    "dates = data[\"competênciamov\"].unique()\n",
    "\n",
    "for year in range(start_year, 2025):\n",
    "    for month in range(start_month, 13):\n",
    "        if f\"{year}-{month:02d}-01\" in dates:\n",
    "            continue\n",
    "        try:\n",
    "            print(f\"{month:02d}/{year}\")\n",
    "            wget.download(url(year, month), 'caged.7z')\n",
    "            archive = SevenZipFile('caged.7z', mode = 'r')\n",
    "            print('Microdados baixados com sucesso, passando para leitura')\n",
    "            for name, fd in archive.read(name for name in archive.getnames() if name.endswith(\".txt\")).items():\n",
    "                caged_raw = pd.read_csv(fd, delimiter=\";\", decimal=\",\")\n",
    "                caged_raw = caged_raw.loc[caged_raw[\"uf\"] == 25, :].reset_index(drop=True)\n",
    "                for col in caged_raw.columns:\n",
    "                    if col in data_dict:\n",
    "                        caged_raw[f\"{col}_cod\"] = caged_raw[col]\n",
    "                        caged_raw[col] = caged_raw[col].apply(lambda x: data_dict[col][x] \n",
    "                                                              if x in data_dict[col] else np.nan)\n",
    "\n",
    "            dfs.append(caged_raw)\n",
    "            archive.close()\n",
    "            remove('caged.7z')\n",
    "            print('Leitura concluida com sucesso')\n",
    "        except:\n",
    "            print('Os microdados do mês selecionado ainda não estão disponíveis')\n",
    "            break"
   ]
  },
  {
   "cell_type": "code",
   "execution_count": 14,
   "id": "9b5e1730",
   "metadata": {},
   "outputs": [],
   "source": [
    "new_data = pd.concat(dfs)"
   ]
  },
  {
   "cell_type": "code",
   "execution_count": 16,
   "id": "00a85052",
   "metadata": {},
   "outputs": [],
   "source": [
    "data = pd.concat([new_data, data])"
   ]
  },
  {
   "cell_type": "code",
   "execution_count": 30,
   "id": "c637093f",
   "metadata": {},
   "outputs": [],
   "source": [
    "data.to_csv(\"data/caged_pb.csv\")"
   ]
  },
  {
   "cell_type": "code",
   "execution_count": 37,
   "id": "0103386d",
   "metadata": {},
   "outputs": [],
   "source": [
    "data[\"competênciamov\"] = pd.to_datetime(data[\"competênciamov\"], format=\"%Y%m\")"
   ]
  },
  {
   "cell_type": "code",
   "execution_count": null,
   "id": "1f67d616",
   "metadata": {},
   "outputs": [],
   "source": [
    "data.groupby([\"competênciamov\", \"saldomovimentação\"], \n",
    "             as_index=False).count()[\"competênciamov\", \"saldomovimentação\", \"idade\"](orient=\"records\")"
   ]
  },
  {
   "cell_type": "code",
   "execution_count": 17,
   "id": "5410efec37e3ef94",
   "metadata": {
    "ExecuteTime": {
     "end_time": "2024-04-10T18:19:17.028316Z",
     "start_time": "2024-04-10T18:19:16.090253Z"
    }
   },
   "outputs": [],
   "source": [
    "data = pd.read_csv(\"data/caged_pb.csv\", index_col=0)\n",
    "data[\"competênciamov\"] = pd.to_datetime(data[\"competênciamov\"])"
   ]
  },
  {
   "cell_type": "code",
   "execution_count": 31,
   "id": "94a704d86b2bc469",
   "metadata": {},
   "outputs": [],
   "source": [
    "g = pd.read_csv(\"data/caged_agregado.csv\", index_col=0)\n",
    "g[\"competênciamov\"] = pd.to_datetime(g[\"competênciamov\"])"
   ]
  },
  {
   "cell_type": "code",
   "execution_count": 32,
   "id": "b304157fee01d41a",
   "metadata": {},
   "outputs": [],
   "source": [
    "g2 = g.astype({\"competênciamov\": str}).groupby([\"competênciamov\",\n",
    "                                                            \"saldomovimentação\"], as_index=False).sum()\n",
    "g2[\"graudeinstrução\"] = g2[\"graudeinstrução\"] * g2[\"saldomovimentação\"]\n",
    "\n",
    "g2 = g2.groupby(\"competênciamov\").sum()"
   ]
  },
  {
   "cell_type": "code",
   "execution_count": 33,
   "id": "3abfc19f",
   "metadata": {},
   "outputs": [],
   "source": [
    "g2[\"graudeinstrução\"] = g2[\"graudeinstrução\"] * g2[\"saldomovimentação\"]\n",
    "\n",
    "g2 = g2.groupby(\"competênciamov\").sum()"
   ]
  },
  {
   "cell_type": "code",
   "execution_count": 38,
   "id": "744fb52e",
   "metadata": {},
   "outputs": [],
   "source": [
    "g2 = g.astype({\"competênciamov\": str}).groupby([\"competênciamov\",\n",
    "                                                            \"saldomovimentação\"], as_index=False).sum()\n",
    "g2[\"graudeinstrução\"] = g2[\"graudeinstrução\"] * g2[\"saldomovimentação\"]\n",
    "g2.groupby(\"competênciamov\").sum()[\"graudeinstrução\"]"
   ]
  },
  {
   "cell_type": "code",
   "execution_count": 43,
   "id": "372156a4",
   "metadata": {},
   "outputs": [
    {
     "data": {
      "text/plain": [
       "{'2023-01-01': -1723,\n",
       " '2023-02-01': 514,\n",
       " '2023-03-01': -815,\n",
       " '2023-04-01': -3181,\n",
       " '2023-05-01': 2868,\n",
       " '2023-06-01': -223,\n",
       " '2023-07-01': 3477,\n",
       " '2023-08-01': 8782,\n",
       " '2023-09-01': 4193,\n",
       " '2023-10-01': 3773,\n",
       " '2023-11-01': 3657,\n",
       " '2023-12-01': -1504,\n",
       " '2024-01-01': 332,\n",
       " '2024-02-01': -9}"
      ]
     },
     "execution_count": 43,
     "metadata": {},
     "output_type": "execute_result"
    }
   ],
   "source": [
    "g2.groupby(\"competênciamov\").sum()[\"graudeinstrução\"].to_dict()"
   ]
  },
  {
   "cell_type": "code",
   "execution_count": null,
   "id": "99bbfb7baf0141f0",
   "metadata": {},
   "outputs": [],
   "source": [
    "a = data.groupby([\"competênciamov\", \"saldomovimentação\"]).count()[\"região\"].to_dict()"
   ]
  },
  {
   "cell_type": "code",
   "execution_count": 43,
   "id": "78e2fe9f0922a08f",
   "metadata": {
    "ExecuteTime": {
     "end_time": "2024-04-10T18:38:52.500886Z",
     "start_time": "2024-04-10T18:38:52.420436Z"
    }
   },
   "outputs": [],
   "source": [
    "saldo = data.groupby(\"competênciamov\").sum()[\"saldomovimentação\"]"
   ]
  },
  {
   "cell_type": "code",
   "execution_count": 47,
   "id": "c26cc282805052b6",
   "metadata": {
    "ExecuteTime": {
     "end_time": "2024-04-10T18:41:03.113629Z",
     "start_time": "2024-04-10T18:41:03.013324Z"
    }
   },
   "outputs": [
    {
     "data": {
      "text/plain": [
       "array([332,  -9])"
      ]
     },
     "execution_count": 47,
     "metadata": {},
     "output_type": "execute_result"
    }
   ],
   "source": [
    "saldo.values"
   ]
  },
  {
   "cell_type": "code",
   "execution_count": 25,
   "id": "22afeaa3",
   "metadata": {},
   "outputs": [],
   "source": [
    "data = pd.read_csv(\"data/caged_pb.csv\", index_col=0, low_memory=False)\n",
    "data[\"competênciamov\"] = data[\"competênciamov\"].apply(lambda x: f\"{x[:4]}-{x[4:]}-01\" if \"-\" not in x else x)\n",
    "\n",
    "g = data.groupby([\"competênciamov\", \"município\", \"seção\", \"saldomovimentação\", \"sexo\"], as_index=False).agg({\n",
    "    \"graudeinstrução\": \"count\",\n",
    "})\n",
    "g.to_csv(\"data/caged_agregado.csv\")"
   ]
  },
  {
   "cell_type": "code",
   "execution_count": 21,
   "id": "848bfd39c56ed0c2",
   "metadata": {
    "ExecuteTime": {
     "end_time": "2024-04-10T17:51:00.775608Z",
     "start_time": "2024-04-10T17:51:00.751593Z"
    }
   },
   "outputs": [
    {
     "ename": "TypeError",
     "evalue": "'dict_keys' object is not subscriptable",
     "output_type": "error",
     "traceback": [
      "\u001B[0;31m---------------------------------------------------------------------------\u001B[0m",
      "\u001B[0;31mTypeError\u001B[0m                                 Traceback (most recent call last)",
      "Cell \u001B[0;32mIn [21], line 1\u001B[0m\n\u001B[0;32m----> 1\u001B[0m \u001B[43ma\u001B[49m\u001B[38;5;241;43m.\u001B[39;49m\u001B[43mkeys\u001B[49m\u001B[43m(\u001B[49m\u001B[43m)\u001B[49m\u001B[43m[\u001B[49m\u001B[38;5;241;43m0\u001B[39;49m\u001B[43m]\u001B[49m\n",
      "\u001B[0;31mTypeError\u001B[0m: 'dict_keys' object is not subscriptable"
     ]
    }
   ],
   "source": [
    "def get_admissions_demissions(data, year, month, category=None):\n",
    "    data[\"competênciamov\"] = pd.to_datetime(data[\"competênciamov\"])"
   ]
  },
  {
   "cell_type": "code",
   "id": "85c31474c723552e",
   "metadata": {
    "ExecuteTime": {
     "end_time": "2024-04-10T22:58:05.228869Z",
     "start_time": "2024-04-10T22:58:05.160628Z"
    }
   },
   "source": [
    "data = pd.read_csv(\"data/caged_agregado.csv\", index_col=0)\n",
    "data[\"competênciamov\"] = pd.to_datetime(data[\"competênciamov\"])"
   ],
   "outputs": [],
   "execution_count": 37
  },
  {
   "metadata": {
    "ExecuteTime": {
     "end_time": "2024-04-10T22:58:54.607043Z",
     "start_time": "2024-04-10T22:58:54.587518Z"
    }
   },
   "cell_type": "code",
   "source": [
    "g = data.groupby([\"competênciamov\", \"saldomovimentação\"], as_index=False).sum()\n",
    "g[\"admissao\"] = g[\"saldomovimentação\"] * g[\"graudeinstrução\"]\n",
    "g[\"demissao\"] = g[\"saldomovimentação\"] * g[\"graudeinstrução\"] * -1\n",
    "\n",
    "for col in [\"admissao\", \"demissao\"]:\n",
    "    g[col] = g[col].apply(lambda x: x if x > 0 else np.nan)\n",
    "    \n",
    "g[\"admissao\"].fillna(method=\"bfill\", inplace=True)\n",
    "g[\"demissao\"].fillna(method=\"ffill\", inplace=True)\n",
    "\n",
    "g = g[[\"competênciamov\", \"demissao\", \"admissao\"]].drop_duplicates(keep=\"first\").reset_index(drop=True)\n",
    "g = g.astype({\"demissao\": int, \"admissao\": int})"
   ],
   "id": "5bc441f5475f3009",
   "outputs": [],
   "execution_count": 44
  },
  {
   "metadata": {
    "ExecuteTime": {
     "end_time": "2024-04-10T23:06:42.920777Z",
     "start_time": "2024-04-10T23:06:42.910911Z"
    }
   },
   "cell_type": "code",
   "source": [
    "year = 2024\n",
    "month = 3\n",
    "g[g[\"competênciamov\"] == f\"{year}-{month:02d}-01\"].astype({\"competênciamov\": str}).to_dict(orient=\"records\")"
   ],
   "id": "87ed30051ddd458a",
   "outputs": [
    {
     "data": {
      "text/plain": [
       "[]"
      ]
     },
     "execution_count": 55,
     "metadata": {},
     "output_type": "execute_result"
    }
   ],
   "execution_count": 55
  },
  {
   "metadata": {
    "ExecuteTime": {
     "end_time": "2024-04-10T23:21:01.849649Z",
     "start_time": "2024-04-10T23:21:01.635035Z"
    }
   },
   "cell_type": "code",
   "source": "g.set_index(\"competênciamov\")",
   "id": "58c1704f1f9d558d",
   "outputs": [
    {
     "ename": "ModuleNotFoundError",
     "evalue": "No module named 'flask'",
     "output_type": "error",
     "traceback": [
      "\u001B[0;31m---------------------------------------------------------------------------\u001B[0m",
      "\u001B[0;31mModuleNotFoundError\u001B[0m                       Traceback (most recent call last)",
      "Cell \u001B[0;32mIn [60], line 1\u001B[0m\n\u001B[0;32m----> 1\u001B[0m \u001B[38;5;28;01mimport\u001B[39;00m \u001B[38;5;21;01mapp\u001B[39;00m\n",
      "File \u001B[0;32m~/Pessoal/CINEP/CAGED/pbTrabalha/app.py:1\u001B[0m\n\u001B[0;32m----> 1\u001B[0m \u001B[38;5;28;01mfrom\u001B[39;00m \u001B[38;5;21;01mflask\u001B[39;00m \u001B[38;5;28;01mimport\u001B[39;00m Flask, render_template, jsonify\n\u001B[1;32m      3\u001B[0m \u001B[38;5;28;01mimport\u001B[39;00m \u001B[38;5;21;01mpandas\u001B[39;00m \u001B[38;5;28;01mas\u001B[39;00m \u001B[38;5;21;01mpd\u001B[39;00m\n\u001B[1;32m      4\u001B[0m \u001B[38;5;28;01mimport\u001B[39;00m \u001B[38;5;21;01mnumpy\u001B[39;00m \u001B[38;5;28;01mas\u001B[39;00m \u001B[38;5;21;01mnp\u001B[39;00m\n",
      "\u001B[0;31mModuleNotFoundError\u001B[0m: No module named 'flask'"
     ]
    }
   ],
   "execution_count": 60
  },
  {
   "metadata": {
    "ExecuteTime": {
     "end_time": "2024-04-10T23:37:22.629073Z",
     "start_time": "2024-04-10T23:37:22.437878Z"
    }
   },
   "cell_type": "code",
   "source": "",
   "id": "ecff9dbdac8a46c",
   "outputs": [
    {
     "data": {
      "text/plain": [
       "array(['2023-01-01', '2023-02-01', '2023-03-01', '2023-04-01',\n",
       "       '2023-05-01', '2023-06-01', '2023-07-01', '2023-08-01',\n",
       "       '2023-09-01', '2023-10-01', '2023-11-01', '2023-12-01',\n",
       "       '2024-01-01', '2024-02-01'], dtype=object)"
      ]
     },
     "execution_count": 65,
     "metadata": {},
     "output_type": "execute_result"
    }
   ],
   "execution_count": 65
  }
 ],
 "metadata": {
  "kernelspec": {
   "display_name": "Python 3 (ipykernel)",
   "language": "python",
   "name": "python3"
  },
  "language_info": {
   "codemirror_mode": {
    "name": "ipython",
    "version": 3
   },
   "file_extension": ".py",
   "mimetype": "text/x-python",
   "name": "python",
   "nbconvert_exporter": "python",
   "pygments_lexer": "ipython3",
   "version": "3.9.6"
  }
 },
 "nbformat": 4,
 "nbformat_minor": 5
}
