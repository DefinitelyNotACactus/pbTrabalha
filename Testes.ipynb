{
 "cells": [
  {
   "cell_type": "code",
   "execution_count": 1,
   "id": "initial_id",
   "metadata": {
    "ExecuteTime": {
     "end_time": "2024-04-12T00:30:45.249370Z",
     "start_time": "2024-04-12T00:30:44.616415Z"
    }
   },
   "outputs": [],
   "source": [
    "import data_manager as dm"
   ]
  },
  {
   "cell_type": "code",
   "execution_count": 2,
   "id": "3c4db4d2379d0424",
   "metadata": {
    "ExecuteTime": {
     "end_time": "2024-04-11T17:45:55.616149Z",
     "start_time": "2024-04-11T17:45:55.607931Z"
    }
   },
   "outputs": [],
   "source": [
    "stats = dm.data[dm.data[\"competênciamov\"] == \"2024-02-01\"].groupby([\n",
    "    \"saldomovimentação\", \"Grupo\"\n",
    "], as_index=True).sum().to_dict()[\"graudeinstrução\"]"
   ]
  },
  {
   "cell_type": "code",
   "execution_count": 6,
   "id": "c0d20af4fb1e2672",
   "metadata": {
    "ExecuteTime": {
     "end_time": "2024-04-12T00:30:58.068174Z",
     "start_time": "2024-04-12T00:30:58.051417Z"
    }
   },
   "outputs": [
    {
     "data": {
      "text/html": [
       "<div>\n",
       "<style scoped>\n",
       "    .dataframe tbody tr th:only-of-type {\n",
       "        vertical-align: middle;\n",
       "    }\n",
       "\n",
       "    .dataframe tbody tr th {\n",
       "        vertical-align: top;\n",
       "    }\n",
       "\n",
       "    .dataframe thead th {\n",
       "        text-align: right;\n",
       "    }\n",
       "</style>\n",
       "<table border=\"1\" class=\"dataframe\">\n",
       "  <thead>\n",
       "    <tr style=\"text-align: right;\">\n",
       "      <th></th>\n",
       "      <th>competênciamov</th>\n",
       "      <th>município</th>\n",
       "      <th>seção</th>\n",
       "      <th>saldomovimentação</th>\n",
       "      <th>sexo</th>\n",
       "      <th>graudeinstrução</th>\n",
       "      <th>Grupo</th>\n",
       "    </tr>\n",
       "  </thead>\n",
       "  <tbody>\n",
       "    <tr>\n",
       "      <th>0</th>\n",
       "      <td>2023-01-01</td>\n",
       "      <td>Pb-Agua Branca</td>\n",
       "      <td>Comércio, Reparação de Veículos Automotores e ...</td>\n",
       "      <td>-1</td>\n",
       "      <td>Homem</td>\n",
       "      <td>1</td>\n",
       "      <td>Comércio</td>\n",
       "    </tr>\n",
       "    <tr>\n",
       "      <th>1</th>\n",
       "      <td>2023-01-01</td>\n",
       "      <td>Pb-Agua Branca</td>\n",
       "      <td>Comércio, Reparação de Veículos Automotores e ...</td>\n",
       "      <td>1</td>\n",
       "      <td>Homem</td>\n",
       "      <td>1</td>\n",
       "      <td>Comércio</td>\n",
       "    </tr>\n",
       "    <tr>\n",
       "      <th>2</th>\n",
       "      <td>2023-01-01</td>\n",
       "      <td>Pb-Agua Branca</td>\n",
       "      <td>Outras Atividades de Serviços</td>\n",
       "      <td>-1</td>\n",
       "      <td>Homem</td>\n",
       "      <td>1</td>\n",
       "      <td>Serviços</td>\n",
       "    </tr>\n",
       "    <tr>\n",
       "      <th>3</th>\n",
       "      <td>2023-01-01</td>\n",
       "      <td>Pb-Aguiar</td>\n",
       "      <td>Indústrias de Transformação</td>\n",
       "      <td>1</td>\n",
       "      <td>Homem</td>\n",
       "      <td>4</td>\n",
       "      <td>Indústria</td>\n",
       "    </tr>\n",
       "    <tr>\n",
       "      <th>4</th>\n",
       "      <td>2023-01-01</td>\n",
       "      <td>Pb-Alagoa Grande</td>\n",
       "      <td>Agricultura, Pecuária, Produção Florestal, Pes...</td>\n",
       "      <td>-1</td>\n",
       "      <td>Homem</td>\n",
       "      <td>1</td>\n",
       "      <td>Agropecuária</td>\n",
       "    </tr>\n",
       "    <tr>\n",
       "      <th>...</th>\n",
       "      <td>...</td>\n",
       "      <td>...</td>\n",
       "      <td>...</td>\n",
       "      <td>...</td>\n",
       "      <td>...</td>\n",
       "      <td>...</td>\n",
       "      <td>...</td>\n",
       "    </tr>\n",
       "    <tr>\n",
       "      <th>24862</th>\n",
       "      <td>2024-02-01</td>\n",
       "      <td>Pb-Vieiropolis</td>\n",
       "      <td>Comércio, Reparação de Veículos Automotores e ...</td>\n",
       "      <td>-1</td>\n",
       "      <td>Homem</td>\n",
       "      <td>1</td>\n",
       "      <td>Comércio</td>\n",
       "    </tr>\n",
       "    <tr>\n",
       "      <th>24863</th>\n",
       "      <td>2024-02-01</td>\n",
       "      <td>Pb-Vieiropolis</td>\n",
       "      <td>Indústrias Extrativas</td>\n",
       "      <td>1</td>\n",
       "      <td>Homem</td>\n",
       "      <td>1</td>\n",
       "      <td>Indústria</td>\n",
       "    </tr>\n",
       "    <tr>\n",
       "      <th>24864</th>\n",
       "      <td>2024-02-01</td>\n",
       "      <td>Pb-Vista Serrana</td>\n",
       "      <td>Informação e Comunicação</td>\n",
       "      <td>1</td>\n",
       "      <td>Homem</td>\n",
       "      <td>3</td>\n",
       "      <td>Serviços</td>\n",
       "    </tr>\n",
       "    <tr>\n",
       "      <th>24865</th>\n",
       "      <td>2024-02-01</td>\n",
       "      <td>Pb-Zabele</td>\n",
       "      <td>Administração Pública, Defesa e Seguridade Social</td>\n",
       "      <td>1</td>\n",
       "      <td>Mulher</td>\n",
       "      <td>1</td>\n",
       "      <td>Serviços</td>\n",
       "    </tr>\n",
       "    <tr>\n",
       "      <th>24866</th>\n",
       "      <td>2024-02-01</td>\n",
       "      <td>Pb-Zabele</td>\n",
       "      <td>Comércio, Reparação de Veículos Automotores e ...</td>\n",
       "      <td>1</td>\n",
       "      <td>Homem</td>\n",
       "      <td>1</td>\n",
       "      <td>Comércio</td>\n",
       "    </tr>\n",
       "  </tbody>\n",
       "</table>\n",
       "<p>24867 rows × 7 columns</p>\n",
       "</div>"
      ],
      "text/plain": [
       "      competênciamov         município  \\\n",
       "0         2023-01-01    Pb-Agua Branca   \n",
       "1         2023-01-01    Pb-Agua Branca   \n",
       "2         2023-01-01    Pb-Agua Branca   \n",
       "3         2023-01-01         Pb-Aguiar   \n",
       "4         2023-01-01  Pb-Alagoa Grande   \n",
       "...              ...               ...   \n",
       "24862     2024-02-01    Pb-Vieiropolis   \n",
       "24863     2024-02-01    Pb-Vieiropolis   \n",
       "24864     2024-02-01  Pb-Vista Serrana   \n",
       "24865     2024-02-01         Pb-Zabele   \n",
       "24866     2024-02-01         Pb-Zabele   \n",
       "\n",
       "                                                   seção  saldomovimentação  \\\n",
       "0      Comércio, Reparação de Veículos Automotores e ...                 -1   \n",
       "1      Comércio, Reparação de Veículos Automotores e ...                  1   \n",
       "2                          Outras Atividades de Serviços                 -1   \n",
       "3                            Indústrias de Transformação                  1   \n",
       "4      Agricultura, Pecuária, Produção Florestal, Pes...                 -1   \n",
       "...                                                  ...                ...   \n",
       "24862  Comércio, Reparação de Veículos Automotores e ...                 -1   \n",
       "24863                              Indústrias Extrativas                  1   \n",
       "24864                           Informação e Comunicação                  1   \n",
       "24865  Administração Pública, Defesa e Seguridade Social                  1   \n",
       "24866  Comércio, Reparação de Veículos Automotores e ...                  1   \n",
       "\n",
       "         sexo  graudeinstrução         Grupo  \n",
       "0       Homem                1      Comércio  \n",
       "1       Homem                1      Comércio  \n",
       "2       Homem                1      Serviços  \n",
       "3       Homem                4     Indústria  \n",
       "4       Homem                1  Agropecuária  \n",
       "...       ...              ...           ...  \n",
       "24862   Homem                1      Comércio  \n",
       "24863   Homem                1     Indústria  \n",
       "24864   Homem                3      Serviços  \n",
       "24865  Mulher                1      Serviços  \n",
       "24866   Homem                1      Comércio  \n",
       "\n",
       "[24867 rows x 7 columns]"
      ]
     },
     "execution_count": 6,
     "metadata": {},
     "output_type": "execute_result"
    }
   ],
   "source": [
    "pb = pd"
   ]
  },
  {
   "cell_type": "code",
   "execution_count": 52,
   "id": "63424fd6ab48f819",
   "metadata": {
    "ExecuteTime": {
     "end_time": "2024-04-11T17:28:33.518050Z",
     "start_time": "2024-04-11T17:28:33.508111Z"
    }
   },
   "outputs": [
    {
     "data": {
      "text/plain": [
       "{'Agropecuária': 231,\n",
       " 'Comércio': 4160,\n",
       " 'Construção': 3662,\n",
       " 'Indústria': 1911,\n",
       " 'Serviços': 7903}"
      ]
     },
     "execution_count": 52,
     "metadata": {},
     "output_type": "execute_result"
    }
   ],
   "source": [
    "{key[1]: val for key, val in stats.items() if key[0] == 1}"
   ]
  },
  {
   "cell_type": "code",
   "execution_count": 11,
   "id": "b6ac3b23fee0ce70",
   "metadata": {
    "ExecuteTime": {
     "end_time": "2024-04-11T17:46:48.051226Z",
     "start_time": "2024-04-11T17:46:48.043338Z"
    }
   },
   "outputs": [],
   "source": [
    "    stats = {}\n",
    "    for key, val in dm.sectors_stats.items():\n",
    "        if key[1] not in stats:\n",
    "            stats[key[1]] = val * key[0]\n",
    "        else:\n",
    "            stats[key[1]] += val * key[0]"
   ]
  },
  {
   "cell_type": "code",
   "execution_count": 12,
   "id": "e596b94d0c75d1cc",
   "metadata": {
    "ExecuteTime": {
     "end_time": "2024-04-11T17:46:49.306721Z",
     "start_time": "2024-04-11T17:46:49.296418Z"
    }
   },
   "outputs": [
    {
     "data": {
      "text/plain": [
       "{'Agropecuária': -892,\n",
       " 'Comércio': -111,\n",
       " 'Construção': 653,\n",
       " 'Indústria': -1298,\n",
       " 'Serviços': 1639}"
      ]
     },
     "execution_count": 12,
     "metadata": {},
     "output_type": "execute_result"
    }
   ],
   "source": [
    "stats"
   ]
  }
 ],
 "metadata": {
  "kernelspec": {
   "display_name": "Python 3 (ipykernel)",
   "language": "python",
   "name": "python3"
  },
  "language_info": {
   "codemirror_mode": {
    "name": "ipython",
    "version": 3
   },
   "file_extension": ".py",
   "mimetype": "text/x-python",
   "name": "python",
   "nbconvert_exporter": "python",
   "pygments_lexer": "ipython3",
   "version": "3.9.6"
  }
 },
 "nbformat": 4,
 "nbformat_minor": 5
}
